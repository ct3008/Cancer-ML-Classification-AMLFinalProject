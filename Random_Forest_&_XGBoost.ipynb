{
  "nbformat": 4,
  "nbformat_minor": 0,
  "metadata": {
    "colab": {
      "provenance": []
    },
    "kernelspec": {
      "name": "python3",
      "display_name": "Python 3"
    },
    "language_info": {
      "name": "python"
    }
  },
  "cells": [
    {
      "cell_type": "markdown",
      "source": [
        "**Downloading the Dataset from Kaggle**"
      ],
      "metadata": {
        "id": "maQbuC8zmc-k"
      }
    },
    {
      "cell_type": "code",
      "execution_count": 2,
      "metadata": {
        "colab": {
          "base_uri": "https://localhost:8080/"
        },
        "id": "06eHNGwsCbsy",
        "outputId": "571f0586-004a-4c3c-d6fd-0554e33d8613"
      },
      "outputs": [
        {
          "output_type": "stream",
          "name": "stdout",
          "text": [
            "Path to dataset files: /kaggle/input/breast-cancer-wisconsin-data\n"
          ]
        }
      ],
      "source": [
        "import kagglehub\n",
        "\n",
        "# Download latest version\n",
        "path = kagglehub.dataset_download(\"uciml/breast-cancer-wisconsin-data\")\n",
        "\n",
        "print(\"Path to dataset files:\", path)"
      ]
    },
    {
      "cell_type": "markdown",
      "source": [
        "**Loading the Dataframe**"
      ],
      "metadata": {
        "id": "4dWhlVzAmTY1"
      }
    },
    {
      "cell_type": "code",
      "source": [
        "import pandas as pd\n",
        "\n",
        "# Load the dataset\n",
        "data = pd.read_csv('/kaggle/input/breast-cancer-wisconsin-data/data.csv')\n",
        "\n",
        "# Inspect the data\n",
        "print(data.head())\n",
        "print(data.info())\n",
        "print(data.describe())\n",
        "print(data['diagnosis'].value_counts())  # Check class distribution"
      ],
      "metadata": {
        "colab": {
          "base_uri": "https://localhost:8080/"
        },
        "id": "Cwtg7bA6l1Rk",
        "outputId": "3f6cbce4-f18c-48c7-b513-36d13056615d"
      },
      "execution_count": 3,
      "outputs": [
        {
          "output_type": "stream",
          "name": "stdout",
          "text": [
            "         id diagnosis  radius_mean  texture_mean  perimeter_mean  area_mean  \\\n",
            "0    842302         M        17.99         10.38          122.80     1001.0   \n",
            "1    842517         M        20.57         17.77          132.90     1326.0   \n",
            "2  84300903         M        19.69         21.25          130.00     1203.0   \n",
            "3  84348301         M        11.42         20.38           77.58      386.1   \n",
            "4  84358402         M        20.29         14.34          135.10     1297.0   \n",
            "\n",
            "   smoothness_mean  compactness_mean  concavity_mean  concave points_mean  \\\n",
            "0          0.11840           0.27760          0.3001              0.14710   \n",
            "1          0.08474           0.07864          0.0869              0.07017   \n",
            "2          0.10960           0.15990          0.1974              0.12790   \n",
            "3          0.14250           0.28390          0.2414              0.10520   \n",
            "4          0.10030           0.13280          0.1980              0.10430   \n",
            "\n",
            "   ...  texture_worst  perimeter_worst  area_worst  smoothness_worst  \\\n",
            "0  ...          17.33           184.60      2019.0            0.1622   \n",
            "1  ...          23.41           158.80      1956.0            0.1238   \n",
            "2  ...          25.53           152.50      1709.0            0.1444   \n",
            "3  ...          26.50            98.87       567.7            0.2098   \n",
            "4  ...          16.67           152.20      1575.0            0.1374   \n",
            "\n",
            "   compactness_worst  concavity_worst  concave points_worst  symmetry_worst  \\\n",
            "0             0.6656           0.7119                0.2654          0.4601   \n",
            "1             0.1866           0.2416                0.1860          0.2750   \n",
            "2             0.4245           0.4504                0.2430          0.3613   \n",
            "3             0.8663           0.6869                0.2575          0.6638   \n",
            "4             0.2050           0.4000                0.1625          0.2364   \n",
            "\n",
            "   fractal_dimension_worst  Unnamed: 32  \n",
            "0                  0.11890          NaN  \n",
            "1                  0.08902          NaN  \n",
            "2                  0.08758          NaN  \n",
            "3                  0.17300          NaN  \n",
            "4                  0.07678          NaN  \n",
            "\n",
            "[5 rows x 33 columns]\n",
            "<class 'pandas.core.frame.DataFrame'>\n",
            "RangeIndex: 569 entries, 0 to 568\n",
            "Data columns (total 33 columns):\n",
            " #   Column                   Non-Null Count  Dtype  \n",
            "---  ------                   --------------  -----  \n",
            " 0   id                       569 non-null    int64  \n",
            " 1   diagnosis                569 non-null    object \n",
            " 2   radius_mean              569 non-null    float64\n",
            " 3   texture_mean             569 non-null    float64\n",
            " 4   perimeter_mean           569 non-null    float64\n",
            " 5   area_mean                569 non-null    float64\n",
            " 6   smoothness_mean          569 non-null    float64\n",
            " 7   compactness_mean         569 non-null    float64\n",
            " 8   concavity_mean           569 non-null    float64\n",
            " 9   concave points_mean      569 non-null    float64\n",
            " 10  symmetry_mean            569 non-null    float64\n",
            " 11  fractal_dimension_mean   569 non-null    float64\n",
            " 12  radius_se                569 non-null    float64\n",
            " 13  texture_se               569 non-null    float64\n",
            " 14  perimeter_se             569 non-null    float64\n",
            " 15  area_se                  569 non-null    float64\n",
            " 16  smoothness_se            569 non-null    float64\n",
            " 17  compactness_se           569 non-null    float64\n",
            " 18  concavity_se             569 non-null    float64\n",
            " 19  concave points_se        569 non-null    float64\n",
            " 20  symmetry_se              569 non-null    float64\n",
            " 21  fractal_dimension_se     569 non-null    float64\n",
            " 22  radius_worst             569 non-null    float64\n",
            " 23  texture_worst            569 non-null    float64\n",
            " 24  perimeter_worst          569 non-null    float64\n",
            " 25  area_worst               569 non-null    float64\n",
            " 26  smoothness_worst         569 non-null    float64\n",
            " 27  compactness_worst        569 non-null    float64\n",
            " 28  concavity_worst          569 non-null    float64\n",
            " 29  concave points_worst     569 non-null    float64\n",
            " 30  symmetry_worst           569 non-null    float64\n",
            " 31  fractal_dimension_worst  569 non-null    float64\n",
            " 32  Unnamed: 32              0 non-null      float64\n",
            "dtypes: float64(31), int64(1), object(1)\n",
            "memory usage: 146.8+ KB\n",
            "None\n",
            "                 id  radius_mean  texture_mean  perimeter_mean    area_mean  \\\n",
            "count  5.690000e+02   569.000000    569.000000      569.000000   569.000000   \n",
            "mean   3.037183e+07    14.127292     19.289649       91.969033   654.889104   \n",
            "std    1.250206e+08     3.524049      4.301036       24.298981   351.914129   \n",
            "min    8.670000e+03     6.981000      9.710000       43.790000   143.500000   \n",
            "25%    8.692180e+05    11.700000     16.170000       75.170000   420.300000   \n",
            "50%    9.060240e+05    13.370000     18.840000       86.240000   551.100000   \n",
            "75%    8.813129e+06    15.780000     21.800000      104.100000   782.700000   \n",
            "max    9.113205e+08    28.110000     39.280000      188.500000  2501.000000   \n",
            "\n",
            "       smoothness_mean  compactness_mean  concavity_mean  concave points_mean  \\\n",
            "count       569.000000        569.000000      569.000000           569.000000   \n",
            "mean          0.096360          0.104341        0.088799             0.048919   \n",
            "std           0.014064          0.052813        0.079720             0.038803   \n",
            "min           0.052630          0.019380        0.000000             0.000000   \n",
            "25%           0.086370          0.064920        0.029560             0.020310   \n",
            "50%           0.095870          0.092630        0.061540             0.033500   \n",
            "75%           0.105300          0.130400        0.130700             0.074000   \n",
            "max           0.163400          0.345400        0.426800             0.201200   \n",
            "\n",
            "       symmetry_mean  ...  texture_worst  perimeter_worst   area_worst  \\\n",
            "count     569.000000  ...     569.000000       569.000000   569.000000   \n",
            "mean        0.181162  ...      25.677223       107.261213   880.583128   \n",
            "std         0.027414  ...       6.146258        33.602542   569.356993   \n",
            "min         0.106000  ...      12.020000        50.410000   185.200000   \n",
            "25%         0.161900  ...      21.080000        84.110000   515.300000   \n",
            "50%         0.179200  ...      25.410000        97.660000   686.500000   \n",
            "75%         0.195700  ...      29.720000       125.400000  1084.000000   \n",
            "max         0.304000  ...      49.540000       251.200000  4254.000000   \n",
            "\n",
            "       smoothness_worst  compactness_worst  concavity_worst  \\\n",
            "count        569.000000         569.000000       569.000000   \n",
            "mean           0.132369           0.254265         0.272188   \n",
            "std            0.022832           0.157336         0.208624   \n",
            "min            0.071170           0.027290         0.000000   \n",
            "25%            0.116600           0.147200         0.114500   \n",
            "50%            0.131300           0.211900         0.226700   \n",
            "75%            0.146000           0.339100         0.382900   \n",
            "max            0.222600           1.058000         1.252000   \n",
            "\n",
            "       concave points_worst  symmetry_worst  fractal_dimension_worst  \\\n",
            "count            569.000000      569.000000               569.000000   \n",
            "mean               0.114606        0.290076                 0.083946   \n",
            "std                0.065732        0.061867                 0.018061   \n",
            "min                0.000000        0.156500                 0.055040   \n",
            "25%                0.064930        0.250400                 0.071460   \n",
            "50%                0.099930        0.282200                 0.080040   \n",
            "75%                0.161400        0.317900                 0.092080   \n",
            "max                0.291000        0.663800                 0.207500   \n",
            "\n",
            "       Unnamed: 32  \n",
            "count          0.0  \n",
            "mean           NaN  \n",
            "std            NaN  \n",
            "min            NaN  \n",
            "25%            NaN  \n",
            "50%            NaN  \n",
            "75%            NaN  \n",
            "max            NaN  \n",
            "\n",
            "[8 rows x 32 columns]\n",
            "diagnosis\n",
            "B    357\n",
            "M    212\n",
            "Name: count, dtype: int64\n"
          ]
        }
      ]
    },
    {
      "cell_type": "markdown",
      "source": [
        "**Dropping the unwanted columns**"
      ],
      "metadata": {
        "id": "owCCp3JMmK-D"
      }
    },
    {
      "cell_type": "code",
      "source": [
        "data = data.drop(['Unnamed: 32', 'id'], axis=1)"
      ],
      "metadata": {
        "id": "F6MhNpFjmGvN"
      },
      "execution_count": 4,
      "outputs": []
    },
    {
      "cell_type": "markdown",
      "source": [
        "**Encoding Target Variable**"
      ],
      "metadata": {
        "id": "OiWEw6W2nU4p"
      }
    },
    {
      "cell_type": "code",
      "source": [
        "from sklearn.preprocessing import LabelEncoder\n",
        "\n",
        "le = LabelEncoder()\n",
        "data['diagnosis'] = le.fit_transform(data['diagnosis'])"
      ],
      "metadata": {
        "id": "MEIwISaLmhi2"
      },
      "execution_count": 5,
      "outputs": []
    },
    {
      "cell_type": "markdown",
      "source": [
        "**Drop Collinear Features**"
      ],
      "metadata": {
        "id": "0xBfI4mtnVRP"
      }
    },
    {
      "cell_type": "code",
      "source": [
        "import numpy as np\n",
        "\n",
        "corr_matrix = data.drop('diagnosis', axis=1).corr().abs()\n",
        "\n",
        "upper = corr_matrix.where(np.triu(np.ones(corr_matrix.shape), k=1).astype(bool))\n",
        "to_drop = [column for column in upper.columns if any(upper[column] > 0.9)]\n",
        "\n",
        "data = data.drop(to_drop, axis=1)\n",
        "print(f\"Dropped features due to high correlation: {to_drop}\")"
      ],
      "metadata": {
        "colab": {
          "base_uri": "https://localhost:8080/"
        },
        "id": "9fvLGmyAnCSZ",
        "outputId": "100526b8-2eb6-4946-8948-457c6376ce6c"
      },
      "execution_count": 6,
      "outputs": [
        {
          "output_type": "stream",
          "name": "stdout",
          "text": [
            "Dropped features due to high correlation: ['perimeter_mean', 'area_mean', 'concave points_mean', 'perimeter_se', 'area_se', 'radius_worst', 'texture_worst', 'perimeter_worst', 'area_worst', 'concave points_worst']\n"
          ]
        }
      ]
    },
    {
      "cell_type": "markdown",
      "source": [
        "**Remove outliers**"
      ],
      "metadata": {
        "id": "I0IBtqTrohB_"
      }
    },
    {
      "cell_type": "code",
      "source": [
        "import numpy as np\n",
        "\n",
        "def remove_outliers(df, columns):\n",
        "    for col in columns:\n",
        "        Q1 = df[col].quantile(0.25)\n",
        "        Q3 = df[col].quantile(0.75)\n",
        "        IQR = Q3 - Q1\n",
        "        lower_bound = Q1 - 1.5 * IQR\n",
        "        upper_bound = Q3 + 1.5 * IQR\n",
        "        df = df[(df[col] >= lower_bound) & (df[col] <= upper_bound)]\n",
        "    return df\n",
        "\n",
        "numerical_cols = data.drop('diagnosis', axis=1).columns\n",
        "data = remove_outliers(data, numerical_cols)"
      ],
      "metadata": {
        "id": "Xeh3mhh4nk-3"
      },
      "execution_count": 7,
      "outputs": []
    },
    {
      "cell_type": "markdown",
      "source": [
        "**Normalize numerical columns**"
      ],
      "metadata": {
        "id": "vERruP4gojfN"
      }
    },
    {
      "cell_type": "code",
      "source": [
        "from sklearn.preprocessing import StandardScaler\n",
        "\n",
        "X = data.drop('diagnosis', axis=1)\n",
        "y = data['diagnosis']\n",
        "\n",
        "scaler = StandardScaler()\n",
        "X_scaled = scaler.fit_transform(X)\n",
        "X = pd.DataFrame(X_scaled, columns=X.columns)"
      ],
      "metadata": {
        "id": "2_uPl2HjoelQ"
      },
      "execution_count": 8,
      "outputs": []
    },
    {
      "cell_type": "markdown",
      "source": [
        "**Data Split**"
      ],
      "metadata": {
        "id": "qMar9Of7qhSM"
      }
    },
    {
      "cell_type": "code",
      "source": [
        "from sklearn.model_selection import train_test_split\n",
        "\n",
        "# First split: 70% train, 30% temp (for validation + test)\n",
        "X_train, X_temp, y_train, y_temp = train_test_split(X, y, test_size=0.3, stratify=y, random_state=42)\n",
        "\n",
        "# Second split: 50% of temp for validation, 50% for test (15% each of total)\n",
        "X_val, X_test, y_val, y_test = train_test_split(X_temp, y_temp, test_size=0.5, stratify=y_temp, random_state=42)\n",
        "\n",
        "print(f\"Train shape: {X_train.shape}, Validation shape: {X_val.shape}, Test shape: {X_test.shape}\")"
      ],
      "metadata": {
        "colab": {
          "base_uri": "https://localhost:8080/"
        },
        "id": "0Ao7avFOom1O",
        "outputId": "44c395af-1553-43f6-acc5-03e6b61d733c"
      },
      "execution_count": 9,
      "outputs": [
        {
          "output_type": "stream",
          "name": "stdout",
          "text": [
            "Train shape: (241, 20), Validation shape: (52, 20), Test shape: (52, 20)\n"
          ]
        }
      ]
    },
    {
      "cell_type": "markdown",
      "source": [
        "**Apply SMOTE to training data**"
      ],
      "metadata": {
        "id": "zWRDDKrcBfFZ"
      }
    },
    {
      "cell_type": "code",
      "source": [
        "from imblearn.over_sampling import SMOTE\n",
        "\n",
        "smote = SMOTE(random_state=42)\n",
        "X_train_smote, y_train_smote = smote.fit_resample(X_train, y_train)\n",
        "\n",
        "print(f\"Class distribution after SMOTE: {pd.Series(y_train_smote).value_counts()}\")"
      ],
      "metadata": {
        "colab": {
          "base_uri": "https://localhost:8080/"
        },
        "id": "9q-iehr5BZC3",
        "outputId": "5f2fbdb4-0452-4b63-d647-92d643467167"
      },
      "execution_count": 10,
      "outputs": [
        {
          "output_type": "stream",
          "name": "stdout",
          "text": [
            "Class distribution after SMOTE: diagnosis\n",
            "1    183\n",
            "0    183\n",
            "Name: count, dtype: int64\n"
          ]
        }
      ]
    },
    {
      "cell_type": "markdown",
      "source": [
        "**Random Forest Classifier**"
      ],
      "metadata": {
        "id": "pPfUL0p5IHjr"
      }
    },
    {
      "cell_type": "code",
      "source": [
        "from sklearn.ensemble import RandomForestClassifier\n",
        "from sklearn.model_selection import GridSearchCV\n",
        "from sklearn.metrics import f1_score, roc_auc_score\n",
        "\n",
        "rf_param_grid = {\n",
        "    'n_estimators': [100, 200, 300],\n",
        "    'max_depth': [None, 10, 20],\n",
        "    'min_samples_split': [2, 5, 10]\n",
        "}\n",
        "\n",
        "rf = RandomForestClassifier(random_state=42)\n",
        "\n",
        "rf_grid = GridSearchCV(rf, rf_param_grid, cv=5, scoring='f1', n_jobs=-1)\n",
        "rf_grid.fit(X_train_smote, y_train_smote)\n",
        "\n",
        "rf_best = rf_grid.best_estimator_\n",
        "print(f\"Best Random Forest Parameters: {rf_grid.best_params_}\")"
      ],
      "metadata": {
        "colab": {
          "base_uri": "https://localhost:8080/"
        },
        "id": "k0FER87zB22y",
        "outputId": "79db12c2-d4aa-4703-9c7b-87ace5c7e4cd"
      },
      "execution_count": 11,
      "outputs": [
        {
          "output_type": "stream",
          "name": "stdout",
          "text": [
            "Best Random Forest Parameters: {'max_depth': None, 'min_samples_split': 2, 'n_estimators': 200}\n"
          ]
        }
      ]
    },
    {
      "cell_type": "markdown",
      "source": [
        "**XGBoost Classifier**"
      ],
      "metadata": {
        "id": "Jazx2ZkOIK8u"
      }
    },
    {
      "cell_type": "code",
      "source": [
        "from xgboost import XGBClassifier\n",
        "\n",
        "xgb_param_grid = {\n",
        "    'n_estimators': [100, 200, 300],\n",
        "    'max_depth': [3, 5, 7],\n",
        "    'learning_rate': [0.01, 0.1, 0.3]\n",
        "}\n",
        "\n",
        "xgb = XGBClassifier(random_state=42, eval_metric='logloss')\n",
        "\n",
        "xgb_grid = GridSearchCV(xgb, xgb_param_grid, cv=5, scoring='f1', n_jobs=-1)\n",
        "xgb_grid.fit(X_train_smote, y_train_smote)\n",
        "\n",
        "xgb_best = xgb_grid.best_estimator_\n",
        "print(f\"Best XGBoost Parameters: {xgb_grid.best_params_}\")"
      ],
      "metadata": {
        "colab": {
          "base_uri": "https://localhost:8080/"
        },
        "id": "3FM8DSvMCuTc",
        "outputId": "7d493d3d-a425-4cae-f87b-139583ababae"
      },
      "execution_count": 13,
      "outputs": [
        {
          "output_type": "stream",
          "name": "stdout",
          "text": [
            "Best XGBoost Parameters: {'learning_rate': 0.3, 'max_depth': 3, 'n_estimators': 100}\n"
          ]
        }
      ]
    },
    {
      "cell_type": "markdown",
      "source": [
        "**Performance Evaluation**"
      ],
      "metadata": {
        "id": "OLE2oypFINro"
      }
    },
    {
      "cell_type": "code",
      "source": [
        "from sklearn.metrics import classification_report, roc_auc_score\n",
        "\n",
        "def evaluate_model(model, X_val, y_val, X_test, y_test):\n",
        "    y_val_pred = model.predict(X_val)\n",
        "    val_f1 = f1_score(y_val, y_val_pred)\n",
        "    val_roc_auc = roc_auc_score(y_val, model.predict_proba(X_val)[:, 1])\n",
        "\n",
        "    y_test_pred = model.predict(X_test)\n",
        "    test_f1 = f1_score(y_test, y_test_pred)\n",
        "    test_roc_auc = roc_auc_score(y_test, model.predict_proba(X_test)[:, 1])\n",
        "\n",
        "    print(f\"Validation F1 Score: {val_f1:.4f}, Validation AUC-ROC: {val_roc_auc:.4f}\")\n",
        "    print(f\"Test F1 Score: {test_f1:.4f}, Test AUC-ROC: {test_roc_auc:.4f}\")\n",
        "    print(\"\\nClassification Report (Test Set):\")\n",
        "    print(classification_report(y_test, y_test_pred))\n",
        "\n",
        "print(\"Random Forest Evaluation:\")\n",
        "evaluate_model(rf_best, X_val, y_val, X_test, y_test)\n",
        "\n",
        "print(\"\\nXGBoost Evaluation:\")\n",
        "evaluate_model(xgb_best, X_val, y_val, X_test, y_test)"
      ],
      "metadata": {
        "colab": {
          "base_uri": "https://localhost:8080/"
        },
        "id": "bvPuL3ZgDQyB",
        "outputId": "40c1e0c8-edae-4c36-e3a3-0b0fca67778f"
      },
      "execution_count": 14,
      "outputs": [
        {
          "output_type": "stream",
          "name": "stdout",
          "text": [
            "Random Forest Evaluation:\n",
            "Validation F1 Score: 0.7692, Validation AUC-ROC: 0.9586\n",
            "Test F1 Score: 0.7500, Test AUC-ROC: 0.9240\n",
            "\n",
            "Classification Report (Test Set):\n",
            "              precision    recall  f1-score   support\n",
            "\n",
            "           0       0.93      0.93      0.93        40\n",
            "           1       0.75      0.75      0.75        12\n",
            "\n",
            "    accuracy                           0.88        52\n",
            "   macro avg       0.84      0.84      0.84        52\n",
            "weighted avg       0.88      0.88      0.88        52\n",
            "\n",
            "\n",
            "XGBoost Evaluation:\n",
            "Validation F1 Score: 0.8571, Validation AUC-ROC: 0.9665\n",
            "Test F1 Score: 0.7407, Test AUC-ROC: 0.9604\n",
            "\n",
            "Classification Report (Test Set):\n",
            "              precision    recall  f1-score   support\n",
            "\n",
            "           0       0.95      0.88      0.91        40\n",
            "           1       0.67      0.83      0.74        12\n",
            "\n",
            "    accuracy                           0.87        52\n",
            "   macro avg       0.81      0.85      0.82        52\n",
            "weighted avg       0.88      0.87      0.87        52\n",
            "\n"
          ]
        }
      ]
    },
    {
      "cell_type": "markdown",
      "source": [
        "Using XGBoost as the primary model due to its higher recall for the malignant class and better AUC-ROC, which are critical for breast cancer diagnosis.\n",
        "\n",
        "**Threshold Tuning**"
      ],
      "metadata": {
        "id": "pABy8bH0HZNF"
      }
    },
    {
      "cell_type": "code",
      "source": [
        "from sklearn.metrics import precision_recall_curve\n",
        "import numpy as np\n",
        "\n",
        "y_probs = xgb_best.predict_proba(X_test)[:, 1]\n",
        "\n",
        "# Compute precision-recall curve\n",
        "precision, recall, thresholds = precision_recall_curve(y_test, y_probs)\n",
        "\n",
        "# Find threshold that balances precision and recall\n",
        "f1_scores = 2 * (precision * recall) / (precision + recall)\n",
        "optimal_threshold = thresholds[np.argmax(f1_scores)]\n",
        "print(f\"Optimal threshold: {optimal_threshold}\")\n",
        "\n",
        "y_pred_custom = (y_probs >= optimal_threshold).astype(int)\n",
        "print(classification_report(y_test, y_pred_custom))"
      ],
      "metadata": {
        "colab": {
          "base_uri": "https://localhost:8080/"
        },
        "id": "Zr_PVhaSGWU-",
        "outputId": "29922031-6dfe-4fda-8d69-2aced1f5ecae"
      },
      "execution_count": 17,
      "outputs": [
        {
          "output_type": "stream",
          "name": "stdout",
          "text": [
            "Optimal threshold: 0.8887889385223389\n",
            "              precision    recall  f1-score   support\n",
            "\n",
            "           0       0.95      0.95      0.95        40\n",
            "           1       0.83      0.83      0.83        12\n",
            "\n",
            "    accuracy                           0.92        52\n",
            "   macro avg       0.89      0.89      0.89        52\n",
            "weighted avg       0.92      0.92      0.92        52\n",
            "\n"
          ]
        }
      ]
    }
  ]
}